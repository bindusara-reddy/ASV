{
 "cells": [
  {
   "cell_type": "markdown",
   "id": "6c2956e6",
   "metadata": {},
   "source": [
    "# Cartpole Problem"
   ]
  },
  {
   "cell_type": "markdown",
   "id": "3c9eb570",
   "metadata": {},
   "source": [
    "# Importing Modules"
   ]
  },
  {
   "cell_type": "code",
   "execution_count": 69,
   "id": "507b195e",
   "metadata": {},
   "outputs": [],
   "source": [
    "import gym \n",
    "import torch\n",
    "import random\n",
    "from matplotlib import pyplot as plt\n",
    "from IPython.display import clear_output\n",
    "from torch.autograd import Variable\n",
    "import numpy as np"
   ]
  },
  {
   "cell_type": "markdown",
   "id": "e9dfa638",
   "metadata": {},
   "source": [
    "# Environment Testing with Random Variables"
   ]
  },
  {
   "cell_type": "code",
   "execution_count": 70,
   "id": "ea88a761",
   "metadata": {},
   "outputs": [],
   "source": [
    "env_name = 'CartPole-v1'\n",
    "env= gym.make(env_name)"
   ]
  },
  {
   "cell_type": "code",
   "execution_count": 71,
   "id": "0e2f7bdb",
   "metadata": {},
   "outputs": [
    {
     "data": {
      "text/plain": [
       "0"
      ]
     },
     "execution_count": 71,
     "metadata": {},
     "output_type": "execute_result"
    }
   ],
   "source": [
    "env.action_space.sample() #action_space has 2 values: 0 & 1. sample gives value 0/1 randomly"
   ]
  },
  {
   "cell_type": "markdown",
   "id": "80f5f5aa",
   "metadata": {},
   "source": [
    "# Model Building"
   ]
  },
  {
   "cell_type": "code",
   "execution_count": 72,
   "id": "31efe536",
   "metadata": {},
   "outputs": [],
   "source": [
    "class DQL():\n",
    "        ''' Deep Q-Learning Neural Network class. '''\n",
    "        def __init__(self, state_dim, action_dim, hidden_dim, lr):\n",
    "                self.criterion = torch.nn.MSELoss()\n",
    "                self.model = torch.nn.Sequential(\n",
    "                                torch.nn.Linear(state_dim, hidden_dim),\n",
    "                                torch.nn.LeakyReLU(),\n",
    "                                torch.nn.Linear(hidden_dim, hidden_dim*2),\n",
    "                                torch.nn.LeakyReLU(),\n",
    "                                torch.nn.Linear(hidden_dim*2, action_dim)\n",
    "                                )\n",
    "                self.optimizer = torch.optim.Adam(self.model.parameters(), lr)\n",
    "        def update(self, state, y):\n",
    "                \"\"\"Update the weights of the network given a training sample. \"\"\"\n",
    "                y_pred = self.model(torch.Tensor(state))\n",
    "                loss = self.criterion(y_pred, Variable(torch.Tensor(y)))\n",
    "                self.optimizer.zero_grad()\n",
    "                loss.backward()\n",
    "                self.optimizer.step()\n",
    "        def predict(self, state):\n",
    "                \"\"\" Compute Q values for all actions using the DQL. \"\"\"\n",
    "                with torch.no_grad():\n",
    "                        return self.model(torch.Tensor(state))\n",
    "        def replay(self, memory, size, gamma=0.9):\n",
    "                if len(memory)>=size:\n",
    "                        batch = random.sample(memory,size)\n",
    "                        batch_t = list(map(list, zip(*batch))) #Transpose batch list\n",
    "                        states = batch_t[0]\n",
    "                        actions = batch_t[1]\n",
    "                        next_states = batch_t[2]\n",
    "                        rewards = batch_t[3]\n",
    "                        is_dones = batch_t[4]\n",
    "                        \n",
    "                        states = torch.Tensor(np.array(states))\n",
    "                        actions_tensor = torch.Tensor(np.array(actions))\n",
    "                        next_states = torch.Tensor(np.array(next_states))\n",
    "                        rewards = torch.Tensor(np.array(rewards))\n",
    "                        is_dones_tensor = torch.Tensor(np.array(is_dones))\n",
    "                        \n",
    "                        is_dones_indices = torch.where(is_dones_tensor==True)[0]\n",
    "\n",
    "                        all_q_values = self.model(states) # predicted q_values of all states\n",
    "                        all_q_values_next = self.model(next_states)\n",
    "                        #Update q values\n",
    "                        all_q_values[range(len(all_q_values)),actions]=rewards+gamma*torch.max(all_q_values_next, axis=1).values\n",
    "                        all_q_values[is_dones_indices.tolist(), np.array(actions_tensor[is_dones]).astype(int).tolist()]=rewards[is_dones_indices.tolist()]\n",
    "                        \n",
    "                        \n",
    "                        self.update(states.tolist(), all_q_values.tolist())"
   ]
  },
  {
   "cell_type": "markdown",
   "id": "f9c28883",
   "metadata": {},
   "source": [
    "# Module to Plot the Reward Variation with each episode"
   ]
  },
  {
   "cell_type": "code",
   "execution_count": 73,
   "id": "b37a99b1",
   "metadata": {},
   "outputs": [],
   "source": [
    "def plot_res(values, title=''):   \n",
    "    ''' Plot the reward curve and histogram of results over time.'''\n",
    "    # Update the window after each episode\n",
    "    clear_output(wait=True)\n",
    "    \n",
    "    # Define the figure\n",
    "    f, ax = plt.subplots(nrows=1, ncols=2, figsize=(12,5))\n",
    "    f.suptitle(title)\n",
    "    ax[0].plot(values, label='score per run')\n",
    "    ax[0].axhline(475, c='red',ls='--', label='goal')\n",
    "    ax[0].set_xlabel('Episodes')\n",
    "    ax[0].set_ylabel('Reward')\n",
    "    x = range(len(values))\n",
    "    ax[0].legend()\n",
    "    # Calculate the trend\n",
    "    try:\n",
    "        z = np.polyfit(x, values, 1)\n",
    "        p = np.poly1d(z)\n",
    "        ax[0].plot(x,p(x),\"--\", label='trend')\n",
    "    except:\n",
    "        print('')\n",
    "    \n",
    "    # Plot the histogram of results\n",
    "    ax[1].hist(values[-50:])\n",
    "    ax[1].axvline(475, c='red', label='goal')\n",
    "    ax[1].set_xlabel('Scores per Last 50 Episodes')\n",
    "    ax[1].set_ylabel('Frequency')\n",
    "    ax[1].legend()\n",
    "    plt.show()"
   ]
  },
  {
   "cell_type": "markdown",
   "id": "77824dec",
   "metadata": {},
   "source": [
    "# Random Strategy"
   ]
  },
  {
   "cell_type": "code",
   "execution_count": 76,
   "id": "59922bac",
   "metadata": {},
   "outputs": [],
   "source": [
    "def random_search(env, episodes, \n",
    "                  title='Random Strategy'):\n",
    "    \"\"\" Random search strategy implementation.\"\"\"\n",
    "    final = []\n",
    "    episode_i = 0\n",
    "    for episode in range(episodes):\n",
    "        state = env.reset()\n",
    "        done = False\n",
    "        total = 0\n",
    "        episode_i += 1\n",
    "        while not done:\n",
    "            env.render()\n",
    "            # Sample random actions\n",
    "            action = env.action_space.sample()\n",
    "            # Take action and extract results\n",
    "            next_state, reward, done, _ = env.step(action)\n",
    "            # Update reward\n",
    "            total += reward\n",
    "            if done:\n",
    "                break\n",
    "        # Add to the final reward\n",
    "        final.append(total)\n",
    "        plot_res(final,title)\n",
    "        print(\"episode: {}, total reward: {}\".format(episode_i, total))\n",
    "\n",
    "    return final"
   ]
  },
  {
   "cell_type": "code",
   "execution_count": 77,
   "id": "37e14fa2",
   "metadata": {},
   "outputs": [
    {
     "data": {
      "image/png": "[encoded data removed]",
      "text/plain": [
       "<Figure size 864x360 with 2 Axes>"
      ]
     },
     "metadata": {
      "needs_background": "light"
     },
     "output_type": "display_data"
    },
    {
     "name": "stdout",
     "output_type": "stream",
     "text": [
      "episode: 150, total reward: 30.0\n"
     ]
    }
   ],
   "source": [
    "# Get random search results\n",
    "random_s = random_search(env, 150)"
   ]
  },
  {
   "cell_type": "markdown",
   "id": "660f2c1c",
   "metadata": {},
   "source": [
    "# Model Training"
   ]
  },
  {
   "cell_type": "code",
   "execution_count": null,
   "id": "d6e52497",
   "metadata": {},
   "outputs": [],
   "source": [
    "def q_learning(env, model, episodes, gamma, epsilon, eps_decay=0.99,replay=False, replay_size=20, title = 'DQL'):\n",
    "    \"\"\"Deep Q Learning algorithm using the DQN. \"\"\"\n",
    "    final = []\n",
    "    memory = []\n",
    "    episode_i = 0\n",
    "    for episode in range(episodes):\n",
    "        # Reset state\n",
    "        state = env.reset()\n",
    "        done = False\n",
    "        total = 0\n",
    "        episode_i += 1 \n",
    "        while not done:\n",
    "            env.render()\n",
    "            # Implement greedy search policy\n",
    "            if random.random() < epsilon:\n",
    "                action = env.action_space.sample()\n",
    "            else:\n",
    "                q_values = model.predict(state)\n",
    "                action = torch.argmax(q_values).item()\n",
    "            \n",
    "            # Take action and add reward to total\n",
    "            next_state, reward, done, _ = env.step(action)\n",
    "            \n",
    "            # Update total and memory\n",
    "            total += reward\n",
    "            memory.append((state, action, next_state, reward, done))\n",
    "            q_values = model.predict(state).tolist()\n",
    "             \n",
    "            if done:\n",
    "                if not replay:\n",
    "                    q_values[action] = reward\n",
    "                    # Update network weights\n",
    "                    model.update(state, q_values)\n",
    "                break\n",
    "\n",
    "            if replay:\n",
    "                # Update network weights using replay memory\n",
    "                model.replay(memory, replay_size, gamma)\n",
    "            else: \n",
    "                # Update network weights using the last step only\n",
    "                q_values_next = model.predict(next_state)\n",
    "                q_values[action] = reward + gamma * torch.max(q_values_next).item()\n",
    "                model.update(state, q_values)\n",
    "            state = next_state\n",
    "        \n",
    "        # Update epsilon\n",
    "        epsilon = max(epsilon * eps_decay, 0.01)\n",
    "        final.append(total)\n",
    "        plot_res(final, title)\n",
    "        print(\"episode: {}, total reward: {}\".format(episode_i, total))\n",
    "    env.close()\n",
    "    return final"
   ]
  },
  {
   "cell_type": "markdown",
   "id": "e85af1d7",
   "metadata": {},
   "source": [
    "# Model Testing"
   ]
  },
  {
   "cell_type": "code",
   "execution_count": null,
   "id": "a8d04d9b",
   "metadata": {},
   "outputs": [],
   "source": [
    "# Number of states\n",
    "n_state = env.observation_space.shape[0]\n",
    "# Number of actions\n",
    "n_action = env.action_space.n\n",
    "# Number of episodes\n",
    "episodes = 150\n",
    "# Number of hidden nodes in the DQN\n",
    "n_hidden = 64\n",
    "# Learning rate\n",
    "lr = 0.001"
   ]
  },
  {
   "cell_type": "code",
   "execution_count": null,
   "id": "07d8ad1c",
   "metadata": {},
   "outputs": [
    {
     "ename": "error",
     "evalue": "display Surface quit",
     "output_type": "error",
     "traceback": [
      "\u001b[1;31m---------------------------------------------------------------------------\u001b[0m",
      "\u001b[1;31merror\u001b[0m                                     Traceback (most recent call last)",
      "\u001b[1;32mc:\\Users\\bindusara\\Projects\\ASV\\cartpole.ipynb Cell 19'\u001b[0m in \u001b[0;36m<cell line: 2>\u001b[1;34m()\u001b[0m\n\u001b[0;32m      <a href='vscode-notebook-cell:/c%3A/Users/bindusara/Projects/ASV/cartpole.ipynb#ch0000017?line=0'>1</a>\u001b[0m dqn \u001b[39m=\u001b[39m DQL(n_state, n_action, n_hidden, lr)\n\u001b[1;32m----> <a href='vscode-notebook-cell:/c%3A/Users/bindusara/Projects/ASV/cartpole.ipynb#ch0000017?line=1'>2</a>\u001b[0m replay \u001b[39m=\u001b[39m q_learning(env, dqn, \n\u001b[0;32m      <a href='vscode-notebook-cell:/c%3A/Users/bindusara/Projects/ASV/cartpole.ipynb#ch0000017?line=2'>3</a>\u001b[0m                     episodes, gamma\u001b[39m=\u001b[39;49m\u001b[39m.9\u001b[39;49m, \n\u001b[0;32m      <a href='vscode-notebook-cell:/c%3A/Users/bindusara/Projects/ASV/cartpole.ipynb#ch0000017?line=3'>4</a>\u001b[0m                     epsilon\u001b[39m=\u001b[39;49m\u001b[39m0.2\u001b[39;49m,replay \u001b[39m=\u001b[39;49m \u001b[39mTrue\u001b[39;49;00m,\n\u001b[0;32m      <a href='vscode-notebook-cell:/c%3A/Users/bindusara/Projects/ASV/cartpole.ipynb#ch0000017?line=4'>5</a>\u001b[0m                     title\u001b[39m=\u001b[39;49m\u001b[39m'\u001b[39;49m\u001b[39mDQL with Replay\u001b[39;49m\u001b[39m'\u001b[39;49m)\n",
      "\u001b[1;32mc:\\Users\\bindusara\\Projects\\ASV\\cartpole.ipynb Cell 16'\u001b[0m in \u001b[0;36mq_learning\u001b[1;34m(env, model, episodes, gamma, epsilon, eps_decay, replay, replay_size, title)\u001b[0m\n\u001b[0;32m     <a href='vscode-notebook-cell:/c%3A/Users/bindusara/Projects/ASV/cartpole.ipynb#ch0000014?line=10'>11</a>\u001b[0m episode_i \u001b[39m+\u001b[39m\u001b[39m=\u001b[39m\u001b[39m1\u001b[39m \n\u001b[0;32m     <a href='vscode-notebook-cell:/c%3A/Users/bindusara/Projects/ASV/cartpole.ipynb#ch0000014?line=11'>12</a>\u001b[0m \u001b[39mwhile\u001b[39;00m \u001b[39mnot\u001b[39;00m done:\n\u001b[1;32m---> <a href='vscode-notebook-cell:/c%3A/Users/bindusara/Projects/ASV/cartpole.ipynb#ch0000014?line=12'>13</a>\u001b[0m     env\u001b[39m.\u001b[39;49mrender()\n\u001b[0;32m     <a href='vscode-notebook-cell:/c%3A/Users/bindusara/Projects/ASV/cartpole.ipynb#ch0000014?line=13'>14</a>\u001b[0m     \u001b[39m# Implement greedy search policy\u001b[39;00m\n\u001b[0;32m     <a href='vscode-notebook-cell:/c%3A/Users/bindusara/Projects/ASV/cartpole.ipynb#ch0000014?line=14'>15</a>\u001b[0m     \u001b[39mif\u001b[39;00m random\u001b[39m.\u001b[39mrandom() \u001b[39m<\u001b[39m epsilon:\n",
      "File \u001b[1;32mc:\\Users\\bindusara\\AppData\\Local\\Programs\\Python\\Python310\\lib\\site-packages\\gym\\core.py:286\u001b[0m, in \u001b[0;36mWrapper.render\u001b[1;34m(self, mode, **kwargs)\u001b[0m\n\u001b[0;32m    <a href='file:///c%3A/Users/bindusara/AppData/Local/Programs/Python/Python310/lib/site-packages/gym/core.py?line=284'>285</a>\u001b[0m \u001b[39mdef\u001b[39;00m \u001b[39mrender\u001b[39m(\u001b[39mself\u001b[39m, mode\u001b[39m=\u001b[39m\u001b[39m\"\u001b[39m\u001b[39mhuman\u001b[39m\u001b[39m\"\u001b[39m, \u001b[39m*\u001b[39m\u001b[39m*\u001b[39mkwargs):\n\u001b[1;32m--> <a href='file:///c%3A/Users/bindusara/AppData/Local/Programs/Python/Python310/lib/site-packages/gym/core.py?line=285'>286</a>\u001b[0m     \u001b[39mreturn\u001b[39;00m \u001b[39mself\u001b[39m\u001b[39m.\u001b[39menv\u001b[39m.\u001b[39mrender(mode, \u001b[39m*\u001b[39m\u001b[39m*\u001b[39mkwargs)\n",
      "File \u001b[1;32mc:\\Users\\bindusara\\AppData\\Local\\Programs\\Python\\Python310\\lib\\site-packages\\gym\\core.py:286\u001b[0m, in \u001b[0;36mWrapper.render\u001b[1;34m(self, mode, **kwargs)\u001b[0m\n\u001b[0;32m    <a href='file:///c%3A/Users/bindusara/AppData/Local/Programs/Python/Python310/lib/site-packages/gym/core.py?line=284'>285</a>\u001b[0m \u001b[39mdef\u001b[39;00m \u001b[39mrender\u001b[39m(\u001b[39mself\u001b[39m, mode\u001b[39m=\u001b[39m\u001b[39m\"\u001b[39m\u001b[39mhuman\u001b[39m\u001b[39m\"\u001b[39m, \u001b[39m*\u001b[39m\u001b[39m*\u001b[39mkwargs):\n\u001b[1;32m--> <a href='file:///c%3A/Users/bindusara/AppData/Local/Programs/Python/Python310/lib/site-packages/gym/core.py?line=285'>286</a>\u001b[0m     \u001b[39mreturn\u001b[39;00m \u001b[39mself\u001b[39m\u001b[39m.\u001b[39menv\u001b[39m.\u001b[39mrender(mode, \u001b[39m*\u001b[39m\u001b[39m*\u001b[39mkwargs)\n",
      "File \u001b[1;32mc:\\Users\\bindusara\\AppData\\Local\\Programs\\Python\\Python310\\lib\\site-packages\\gym\\envs\\classic_control\\cartpole.py:257\u001b[0m, in \u001b[0;36mCartPoleEnv.render\u001b[1;34m(self, mode)\u001b[0m\n\u001b[0;32m    <a href='file:///c%3A/Users/bindusara/AppData/Local/Programs/Python/Python310/lib/site-packages/gym/envs/classic_control/cartpole.py?line=253'>254</a>\u001b[0m gfxdraw\u001b[39m.\u001b[39mhline(\u001b[39mself\u001b[39m\u001b[39m.\u001b[39msurf, \u001b[39m0\u001b[39m, screen_width, carty, (\u001b[39m0\u001b[39m, \u001b[39m0\u001b[39m, \u001b[39m0\u001b[39m))\n\u001b[0;32m    <a href='file:///c%3A/Users/bindusara/AppData/Local/Programs/Python/Python310/lib/site-packages/gym/envs/classic_control/cartpole.py?line=255'>256</a>\u001b[0m \u001b[39mself\u001b[39m\u001b[39m.\u001b[39msurf \u001b[39m=\u001b[39m pygame\u001b[39m.\u001b[39mtransform\u001b[39m.\u001b[39mflip(\u001b[39mself\u001b[39m\u001b[39m.\u001b[39msurf, \u001b[39mFalse\u001b[39;00m, \u001b[39mTrue\u001b[39;00m)\n\u001b[1;32m--> <a href='file:///c%3A/Users/bindusara/AppData/Local/Programs/Python/Python310/lib/site-packages/gym/envs/classic_control/cartpole.py?line=256'>257</a>\u001b[0m \u001b[39mself\u001b[39;49m\u001b[39m.\u001b[39;49mscreen\u001b[39m.\u001b[39;49mblit(\u001b[39mself\u001b[39;49m\u001b[39m.\u001b[39;49msurf, (\u001b[39m0\u001b[39;49m, \u001b[39m0\u001b[39;49m))\n\u001b[0;32m    <a href='file:///c%3A/Users/bindusara/AppData/Local/Programs/Python/Python310/lib/site-packages/gym/envs/classic_control/cartpole.py?line=257'>258</a>\u001b[0m \u001b[39mif\u001b[39;00m mode \u001b[39m==\u001b[39m \u001b[39m\"\u001b[39m\u001b[39mhuman\u001b[39m\u001b[39m\"\u001b[39m:\n\u001b[0;32m    <a href='file:///c%3A/Users/bindusara/AppData/Local/Programs/Python/Python310/lib/site-packages/gym/envs/classic_control/cartpole.py?line=258'>259</a>\u001b[0m     pygame\u001b[39m.\u001b[39mevent\u001b[39m.\u001b[39mpump()\n",
      "\u001b[1;31merror\u001b[0m: display Surface quit"
     ]
    }
   ],
   "source": [
    "dqn = DQL(n_state, n_action, n_hidden, lr)\n",
    "replay = q_learning(env, dqn, \n",
    "                    episodes, gamma=.9, \n",
    "                    epsilon=0.2,replay = True,\n",
    "                    title='DQL with Replay')"
   ]
  },
  {
   "cell_type": "code",
   "execution_count": null,
   "id": "749216b5",
   "metadata": {},
   "outputs": [],
   "source": []
  }
 ],
 "metadata": {
  "interpreter": {
   "hash": "e7eb33b54e6a2ecf972ad5c7fd8cb4c0615266b8bcc76b1aefe92c23316dc3a8"
  },
  "kernelspec": {
   "display_name": "Python 3.10.4 64-bit",
   "language": "python",
   "name": "python3"
  },
  "language_info": {
   "codemirror_mode": {
    "name": "ipython",
    "version": 3
   },
   "file_extension": ".py",
   "mimetype": "text/x-python",
   "name": "python",
   "nbconvert_exporter": "python",
   "pygments_lexer": "ipython3",
   "version": "3.10.4"
  }
 },
 "nbformat": 4,
 "nbformat_minor": 5
}
